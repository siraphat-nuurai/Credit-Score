{
 "cells": [
  {
   "cell_type": "code",
   "execution_count": null,
   "id": "632cd851-da18-4e2a-9edd-23146d85c004",
   "metadata": {},
   "outputs": [],
   "source": [
    "#Exploratory Data\n",
    "import pandas as pd\n",
    "import numpy as np\n",
    "import seaborn as sns\n",
    "import matplotlib.pyplot as plt\n",
    "\n",
    "data = pd.read_csv(\"train.csv\")\n",
    "data.head()\n",
    "\n",
    "###########################import excel file#################################\n",
    "#data_xlsx = pd.read_excel(\"train.xlsx\")\n",
    "#print(data_xlsx.tail(5))\n",
    "\n",
    "############################import text file#############################\n",
    "#data_txt = pd.read_csv(\"train.txt\", delimiter = '\\t')\n",
    "#print(data_txt.head(5))\n",
    "\n",
    "###############################Read Headers##########################\n",
    "data.columns\n",
    "\n",
    "num_columns = len(data.columns)\n",
    "print(\"Number of Columns in DataFrame: \", num_columns)\n",
    "\n",
    "data.info()"
   ]
  },
  {
   "cell_type": "code",
   "execution_count": null,
   "id": "013f5b3e-ebbf-401f-a0c3-7784ae13d989",
   "metadata": {},
   "outputs": [],
   "source": [
    "pip install plotly"
   ]
  },
  {
   "cell_type": "code",
   "execution_count": null,
   "id": "670577f4-ce3c-406d-93d0-0912fed0f90e",
   "metadata": {},
   "outputs": [],
   "source": [
    "import plotly.express as px\n",
    "import plotly.graph_objects as go\n",
    "import plotly.io as pio\n",
    "pio.templates.default = \"plotly_white\""
   ]
  },
  {
   "cell_type": "code",
   "execution_count": null,
   "id": "d3b40205-0397-4fd4-9031-2be232990967",
   "metadata": {},
   "outputs": [],
   "source": [
    "#######################Read each column###############################\n",
    "print(data['Name'][0:20])\n",
    "print(data.Name)\n",
    "print(data[['Name', 'Age', 'Occupation', 'Credit_Score',]][0:100])"
   ]
  },
  {
   "cell_type": "code",
   "execution_count": null,
   "id": "02da1772-b6e6-495f-9487-20ac7bcb80dc",
   "metadata": {},
   "outputs": [],
   "source": [
    "#######################Read each row###############################\n",
    "'''data.iloc[1:3]'''\n",
    "#######################Read a specific location###############################\n",
    "'''data.iloc[1, 27]'''\n",
    "\n",
    "#######################Read each index and column 'Credit_Score'###############################\n",
    "'''for index, row in data.iterrows():\n",
    "    print(index, row[\"Credit_Score\"])'''\n",
    "\n",
    "#################Read data which Column'Credit_Score' = 'Standard' ############################    \n",
    "'''data.loc[data['Credit_Score'] == \"Standard\"]'''\n",
    "\n",
    "#################Read data which is null ############################   \n",
    "data[\"Credit_Score\"].value_counts()\n",
    "print(data.isnull().sum())\n",
    "\n",
    "#################Read data Stat info ############################   \n",
    "print()\n",
    "data.describe()\n"
   ]
  },
  {
   "cell_type": "code",
   "execution_count": null,
   "id": "a111a87b-66bc-41a7-9828-c330f0418222",
   "metadata": {},
   "outputs": [],
   "source": [
    "#################Order Data by 'Month' ############################  \n",
    "'''data.sort_values('Month')'''\n",
    "\n",
    "#################Order Data by 'Month' dsc############################ \n",
    "'''data.sort_values('Month', ascending = False)'''\n",
    "\n",
    "#################Order Data by 'Month', 'Age' dsc=0, asc =1 ############################ \n",
    "'''data.sort_values(['Month', 'Age'], ascending = False)\n",
    "data.sort_values(['Month', 'Age'], ascending = [0, 0])'''\n",
    "\n",
    "#################Summation some columns into Column = 'Total' ############################\n",
    "#print(data.head(5))\n",
    "'''data['Total(Bank_Acc+Credit_Card)'] = data['Num_Bank_Accounts'] + data['Num_Credit_Card']\n",
    "data.head(5)'''\n",
    "\n",
    "#################axis = 1 : แนวนอน   axis = 0 : แนวตั้ง############################\n",
    "'''data['Total(Bank_Acc+Credit_Card)'] = data.iloc[:, 10: 11].sum(axis=1)\n",
    "data.head(5)'''\n",
    "\n",
    "#################Drop Column############################\n",
    "'''data = data.drop(columns = ['Total(Bank_Acc+Credit_Card)'])\n",
    "print(data.head(5))'''\n",
    "#print(data.info())\n"
   ]
  },
  {
   "cell_type": "code",
   "execution_count": null,
   "id": "628d5b8c-ab76-4e30-95bc-e366b2fb4bae",
   "metadata": {},
   "outputs": [],
   "source": [
    "#################Reorder columns (คอลัมน์เดียวใส่ [] เพิ่ม)############################\n",
    "cols = list(data.columns)\n",
    "data = data[cols[0:2] + [cols[5]] + [cols[3]] + [cols[4]] + [cols[6]] + [cols[2]] + cols[7:9] + \n",
    "            cols[9:14] + cols[14:18] + cols[19:25] + [cols[26]] + [cols[25]] + [cols[18]] + [cols[27]]]\n",
    "print(data.head(5))\n",
    "print(data.info())\n",
    "\n",
    "#################เปลี่ยนให้columnที่เป็นfloat มีทศนิยม 2 ตำแหน่ง##################\n",
    "#print(data)\n",
    "pd.set_option('display.float_format', lambda x : '%.2f' %x)\n",
    "#print(data.info())\n",
    "print(data.describe())\n",
    "\n",
    "#################หาจำนวนในแต่ละคอลัมน์ที่มีค่าว่าง##################\n",
    "print('\\nNumber of Null Data in each columns')\n",
    "print(data.isnull().sum())\n",
    "\n",
    "#################หาจำนวนในแต่ละคอลัมน์ที่มีค่าunique##################\n",
    "print('\\nNumber of Unique Data in each columns')\n",
    "print(data.nunique())\n",
    "\n",
    "##################หาจำนวนในแต่ละคอลัมน์ที่มีค่าว่าง##################\n",
    "print('\\nSort Value by Month')\n",
    "print(data.sort_values(by = 'Month', ascending = True).head())"
   ]
  },
  {
   "cell_type": "code",
   "execution_count": null,
   "id": "b77f30f1-3a4b-4f75-b39f-c7792f01df9d",
   "metadata": {},
   "outputs": [],
   "source": [
    "##ลบค่าแปลกๆที่อยู่หน้าหลังString\n",
    "cols_remove_ = ['Age', 'Annual_Income', 'Num_of_Loan', 'Num_of_Delayed_Payment', 'Outstanding_Debt', 'Amount_invested_monthly']\n",
    "data[cols_remove_] = data[cols_remove_].apply(lambda x: x.str.strip(\"_\") if x.dtype == \"object\" else x)\n",
    "data['Name'] = data['Name'].str.strip()\n",
    "data"
   ]
  },
  {
   "cell_type": "code",
   "execution_count": null,
   "id": "7c5a434a-c7fd-40bc-aefa-1f200b96f21b",
   "metadata": {},
   "outputs": [],
   "source": [
    "data.to_csv('ModifiedData.csv', index = False)"
   ]
  },
  {
   "cell_type": "code",
   "execution_count": null,
   "id": "2b068fd0-c11a-4fcb-8166-f95882392c60",
   "metadata": {},
   "outputs": [],
   "source": [
    "print(data.info())"
   ]
  },
  {
   "cell_type": "code",
   "execution_count": null,
   "id": "37455e36-1d2b-4ae7-8730-f59a784e5255",
   "metadata": {},
   "outputs": [],
   "source": [
    "cols_remove_ = ['Occupation', 'Changed_Credit_Limit', 'Credit_Mix']\n",
    "data[cols_remove_] = data[cols_remove_].apply(lambda x: x.str.strip(\"_\") if x.dtype == \"object\" else x)\n",
    "\n",
    "### ถ้าลบเครื่องหมาย _ ในคอลัมน์เดียว ###\n",
    "''' data['Occupation'] = data['Occupation'].str.strip('_') '''\n",
    "### ถ้าลบเครื่องหมาย ./_ ในคอลัมน์เดียว ###\n",
    "'''data['Occupation'] = data['Occupation'].str.strip('123./_') '''\n",
    "\n",
    "data"
   ]
  },
  {
   "cell_type": "code",
   "execution_count": null,
   "id": "061927ca-6633-47fc-ba6d-c779ddba0448",
   "metadata": {},
   "outputs": [],
   "source": [
    "data = data.drop_duplicates()\n",
    "data"
   ]
  },
  {
   "cell_type": "code",
   "execution_count": null,
   "id": "31d94e6a-72c8-4bac-8127-7fe96e367190",
   "metadata": {},
   "outputs": [],
   "source": [
    "data.to_csv('ModifiedData.csv', index = False)"
   ]
  },
  {
   "cell_type": "code",
   "execution_count": null,
   "id": "2d75711b-c21b-464c-bb49-e308978faf00",
   "metadata": {},
   "outputs": [],
   "source": [
    "##########################ถ้าformatเบอร์ไม่เหมือนกัน###########################################\n",
    "'''\n",
    "data[\"Number\"] = data[\"Number\"].str.replace('[^a-zA-Z0-9]', '')\n",
    "########################## จะทำให้เป็น 012-258-2545 data ต้องเป็นstringก่อน###########################################\n",
    "data[\"Number\"].apply(lambda x : x[0:3] + '-' + x[3:6] + '-' + x[6:10])\n",
    "data\n",
    "'''"
   ]
  },
  {
   "cell_type": "code",
   "execution_count": null,
   "id": "78cb110c-8393-4960-8497-b9dc0ebae9ee",
   "metadata": {},
   "outputs": [],
   "source": [
    "data.loc[5:9]"
   ]
  },
  {
   "cell_type": "code",
   "execution_count": null,
   "id": "eddcc6ff-963b-41a0-b833-97677358bd01",
   "metadata": {},
   "outputs": [],
   "source": [
    "##########################Replace na, Nan with null###########################################\n",
    "data[\"Payment_Behaviour\"] = data[\"Payment_Behaviour\"].str.replace(\"!@9#%8\", \"\")\n",
    "data[\"SSN\"] = data[\"SSN\"].str.replace(\"#F%$D@*&8\", \"\")\n",
    "#data[\"SSN\"] = data[\"SSN\"].str.replace(\"\", \"\")\n",
    "data[\"Name\"] = data[\"Name\"].str.lstrip('123,\"')\n",
    "data[\"Name\"] = data[\"Name\"].str.rstrip('\"q')\n",
    "data[\"Payment_of_Min_Amount\"] = data[\"Payment_of_Min_Amount\"].str.replace(\"NM\", \"No\")\n",
    "#data[\"\"] = data[\" \"].str.replace(\"Nan\", \"\")\n",
    "data"
   ]
  },
  {
   "cell_type": "code",
   "execution_count": null,
   "id": "20b17853-d4e9-4a68-b42d-62350ac539bc",
   "metadata": {},
   "outputs": [],
   "source": [
    "##########################Split โดยใช้ 2 เคาะ แล้วสร้างคอลัมน์ใหม่###########################################\n",
    "'''\n",
    "data[['Name', 'Surname']] = data['Name'].str.split('', 2, expand = True)\n",
    "data\n",
    "'''"
   ]
  },
  {
   "cell_type": "code",
   "execution_count": null,
   "id": "5fccf0c6-029a-45dd-9c2c-2be540f74049",
   "metadata": {},
   "outputs": [],
   "source": [
    "data.info()"
   ]
  },
  {
   "cell_type": "code",
   "execution_count": null,
   "id": "e4315bb1-97c1-4ba6-952b-e4dfac9f19f4",
   "metadata": {},
   "outputs": [],
   "source": [
    "data.to_csv('ModifiedData.csv', index = False)"
   ]
  },
  {
   "cell_type": "code",
   "execution_count": null,
   "id": "adb592be-a406-4bd3-808f-5d8eb77a4fe8",
   "metadata": {},
   "outputs": [],
   "source": [
    "data.isnull().sum()"
   ]
  },
  {
   "cell_type": "code",
   "execution_count": null,
   "id": "8544846f-f397-4818-af39-65123aa67d93",
   "metadata": {},
   "outputs": [],
   "source": [
    "data['SSN'] = data['SSN'].replace('', np.nan)\n",
    "data['Occupation'] = data['Occupation'].replace('', np.nan)\n",
    "data['SSN'].loc[5:10]\n",
    "data['Occupation'].loc[5:11]\n",
    "data"
   ]
  },
  {
   "cell_type": "code",
   "execution_count": null,
   "id": "993b8847-3de9-46f9-9eb1-df541a124795",
   "metadata": {},
   "outputs": [],
   "source": [
    "# แทนค่าSSNในแต่ละกลุ่ม Customer_ID ด้วยSSNที่พบบ่อยที่สุด\n",
    "data['SSN'] = data.groupby('Customer_ID')['SSN'].transform(lambda x: x.mode()[0] if not x.mode().empty else x.iloc[0])\n",
    "\n",
    "# แทนค่าชื่อในแต่ละกลุ่ม SSN ด้วยชื่อที่พบบ่อยที่สุด\n",
    "data['Name'] = data.groupby('SSN')['Name'].transform(lambda x: x.mode()[0] if not x.mode().empty else x.iloc[0])\n",
    "\n",
    "# แทนค่าชื่อในแต่ละกลุ่ม SSN ด้วยชื่อที่พบบ่อยที่สุด\n",
    "data['Occupation'] = data.groupby('SSN')['Occupation'].transform(lambda x: x.mode()[0] if not x.mode().empty else x.iloc[0])\n",
    "\n",
    "# แทนค่าชื่อในแต่ละกลุ่ม SSN ด้วยชื่อที่พบบ่อยที่สุด\n",
    "data['Monthly_Inhand_Salary'] = data.groupby('SSN')['Monthly_Inhand_Salary'].transform(\n",
    "    lambda x: x.mode()[0] if not x.mode().empty else x.iloc[0])"
   ]
  },
  {
   "cell_type": "code",
   "execution_count": null,
   "id": "32b67a4e-1446-4e2f-9e51-c63c456180b5",
   "metadata": {},
   "outputs": [],
   "source": [
    "print(data['SSN'].isna().sum())\n",
    "print(data['SSN'].unique())\n",
    "data.to_csv('ModifiedData.csv', index = False)"
   ]
  },
  {
   "cell_type": "code",
   "execution_count": null,
   "id": "d23d8a13-8e8d-4824-8782-03b18070292a",
   "metadata": {},
   "outputs": [],
   "source": [
    "data.isnull().sum()\n",
    "data.describe()"
   ]
  },
  {
   "cell_type": "code",
   "execution_count": null,
   "id": "84fe3896-74db-46ae-9b1f-e1deb51bab55",
   "metadata": {},
   "outputs": [],
   "source": [
    "########################################แยกประเภทสินเชื่อ##############################################\n",
    "# แปลงคอลัมน์ 'Num_of_Loan' ให้เป็นตัวเลข (หากมีค่าที่แปลงไม่ได้ให้เป็น NaN)\n",
    "data['Num_of_Loan'] = pd.to_numeric(data['Num_of_Loan'], errors = 'coerce')\n",
    "\n",
    "# ฟังก์ชันทำความสะอาดข้อมูล\n",
    "def clean_and_adjust_loan(loan_row):\n",
    "    # ตรวจสอบ Num_of_Loan ถ้าเป็น NaN, < 0 หรือ > 100 ให้เป็น NaN\n",
    "    num_loans = loan_row['Num_of_Loan']\n",
    "    if pd.isna(num_loans) or not isinstance(num_loans, (int, float)) or num_loans < 0 or num_loans > 100:\n",
    "        num_loans = None  # ทำให้เป็น NaN\n",
    "\n",
    "    # แปลง 'and' เป็น ',' และแยกรายการสินเชื่อ\n",
    "    loan_text = str(loan_row['Type_of_Loan']).strip() if pd.notna(loan_row['Type_of_Loan']) else 'No Loan'\n",
    "    loan_list = loan_text.replace(' and', ',').split(',')\n",
    "    loan_list = [item.strip() for item in loan_list if item]  # ลบช่องว่างที่เกินมา\n",
    "\n",
    "    # ถ้า Num_of_Loan เป็น NaN ให้คืนค่าเป็น None\n",
    "    if num_loans is None:\n",
    "        return None  # ค่าจะถูกแทนที่ในภายหลัง\n",
    "\n",
    "    # ถ้าจำนวนสินเชื่อมากกว่าที่มี → จำกัดให้ตรงกับ Type_of_Loan จริง\n",
    "    if num_loans > len(loan_list):\n",
    "        num_loans = len(loan_list)\n",
    "\n",
    "    # ถ้า Num_of_Loan เป็น 0 → ต้องไม่มีสินเชื่อ\n",
    "    if num_loans == 0:\n",
    "        return \"No Loan\"\n",
    "\n",
    "    return \", \".join(loan_list[:num_loans])\n",
    "\n",
    "# ใช้ฟังก์ชันทำความสะอาดข้อมูล\n",
    "data['Type_of_Loan'] = data.apply(clean_and_adjust_loan, axis=1)\n",
    "\n",
    "# แทนค่าที่เป็น NaN ด้วยค่าที่พบบ่อยที่สุดในกลุ่ม SSN\n",
    "data['Num_of_Loan'] = data.groupby('SSN')['Num_of_Loan'].transform(\n",
    "    lambda x: x.fillna(x.mode()[0] if not x.mode().empty else 0))\n",
    "\n",
    "# แทนที่ค่า NaN ใน 'Type_of_Loan' ด้วยค่าที่พบบ่อยที่สุดในกลุ่มเดียวกัน\n",
    "data['Type_of_Loan'] = data.groupby('SSN')['Type_of_Loan'].transform(\n",
    "    lambda x: x.fillna(x.mode()[0] if not x.mode().empty else \"No Loan\"))\n",
    "\n",
    "# ตรวจสอบผลลัพธ์\n",
    "print(data[['SSN', 'Num_of_Loan', 'Type_of_Loan']].head())\n",
    "\n",
    "\n",
    "# ตรวจสอบผลลัพธ์\n",
    "print(data[['SSN', 'Num_of_Loan', 'Type_of_Loan']].head())\n",
    "print(data.loc[12577, ['Num_of_Loan', 'Type_of_Loan']])"
   ]
  },
  {
   "cell_type": "code",
   "execution_count": null,
   "id": "fe0d4a10-2837-4c13-b70f-2053deb820ab",
   "metadata": {},
   "outputs": [],
   "source": [
    "# ฟังก์ชันทำความสะอาดข้อมูล\n",
    "# ตรวจสอบว่า 'Num_of_Loan' อยู่ในช่วงที่ถูกต้อง (0 - 100)\n",
    "data['Num_of_Loan'] = data['Num_of_Loan'].apply(lambda x: x if (0 <= x <= 100) else None)\n",
    "\n",
    "# ถ้า 'Num_of_Loan' เป็น NaN ให้แทนด้วยความยาวของ 'Type_of_Loan'\n",
    "data['Num_of_Loan'] = data.apply(lambda row: len(str(row['Type_of_Loan']).split(',')) \n",
    "                                 if pd.isna(row['Num_of_Loan']) else row['Num_of_Loan'], axis=1)\n",
    "\n",
    "data['Num_of_Loan'] = data['Num_of_Loan'].astype('Int64')\n",
    "# ตรวจสอบผลลัพธ์\n",
    "print(data.loc[12577, ['Num_of_Loan', 'Type_of_Loan']])"
   ]
  },
  {
   "cell_type": "code",
   "execution_count": null,
   "id": "334920eb-5aa0-4312-812b-e97b3ac07665",
   "metadata": {},
   "outputs": [],
   "source": [
    "data.to_csv('ModifiedData.csv', index = False)"
   ]
  },
  {
   "cell_type": "code",
   "execution_count": null,
   "id": "219ac4b6-6b4e-40b1-8377-fe19cff423df",
   "metadata": {},
   "outputs": [],
   "source": [
    "data.isnull().sum()"
   ]
  },
  {
   "cell_type": "code",
   "execution_count": null,
   "id": "3ed05db1-5f8b-451f-984a-a269448cdc87",
   "metadata": {},
   "outputs": [],
   "source": [
    "# แปลงอายุคนที่ <0และ>100 ให้กลายเป็นอายุของคนที่อยู่รอบๆแถวข้อมูลตัวนั้น\n",
    "# แปลงคอลัมน์ 'Age' ให้เป็นตัวเลข (หากมีค่าที่แปลงไม่ได้ให้เป็น NaN)\n",
    "data['Age'] = pd.to_numeric(data['Age'], errors='coerce')\n",
    "\n",
    "# แทนค่าที่ไม่สมเหตุสมผล (<0 หรือ >100) ด้วย NaN\n",
    "data.loc[(data['Age'] <= 0) | (data['Age'] > 100), 'Age'] = None\n",
    "\n",
    "# ใช้ backward fill (bfill) หรือ forward fill (ffill) เพื่อเติมค่า\n",
    "data['Age'] = data['Age'].bfill()  # หรือใช้ data['Age'].fillna(method='ffill')\n",
    "\n",
    "# แปลงค่าให้เป็นจำนวนเต็ม (int) โดยตัดทศนิยม\n",
    "data['Age'] = data['Age'].astype('Int64')  # ใช้ 'Int64' รองรับ NaN ได้\n",
    "\n",
    "print(data)"
   ]
  },
  {
   "cell_type": "code",
   "execution_count": null,
   "id": "ac3d781f-6261-423f-826d-b4c89035cb88",
   "metadata": {},
   "outputs": [],
   "source": [
    "# แปลงNum_Bank_Accountsที่ >100 ให้กลายเป็นNum_Bank_Accountsของคนที่อยู่รอบๆแถวข้อมูลตัวนั้น\n",
    "# แปลงคอลัมน์ 'Num_Bank_Accounts' ให้เป็นตัวเลข (หากมีค่าที่แปลงไม่ได้ให้เป็น NaN)\n",
    "#data['Age'] = pd.to_numeric(data['Age'], errors='coerce')\n",
    "\n",
    "# แทนค่าที่ไม่สมเหตุสมผล (<0 หรือ >100) ด้วย NaN\n",
    "data.loc[(data['Num_Bank_Accounts'] > 100), 'Num_Bank_Accounts'] = None\n",
    "\n",
    "# ใช้ backward fill (bfill) หรือ forward fill (ffill) เพื่อเติมค่า\n",
    "data['Num_Bank_Accounts'] = data['Num_Bank_Accounts'].bfill()  # หรือใช้ data['Age'].fillna(method='ffill')\n",
    "\n",
    "# แปลงค่าให้เป็นจำนวนเต็ม (int) โดยตัดทศนิยม\n",
    "data['Num_Bank_Accounts'] = data['Num_Bank_Accounts'].astype('Int64')  # ใช้ 'Int64' รองรับ NaN ได้\n",
    "\n",
    "print(data)"
   ]
  },
  {
   "cell_type": "code",
   "execution_count": null,
   "id": "bed319ba-c6aa-401f-8e7a-2a64df881796",
   "metadata": {},
   "outputs": [],
   "source": [
    "data.info()\n"
   ]
  },
  {
   "cell_type": "code",
   "execution_count": null,
   "id": "365b525a-2581-4887-a6c1-ab865b5285bd",
   "metadata": {},
   "outputs": [],
   "source": [
    "# แปลงNum_Credit_Cardที่ >100 ให้กลายเป็นNum_Credit_Cardของคนที่อยู่รอบๆแถวข้อมูลตัวนั้น\n",
    "# แปลงคอลัมน์ 'Num_Credit_Card' ให้เป็นตัวเลข (หากมีค่าที่แปลงไม่ได้ให้เป็น NaN)\n",
    "#data['Age'] = pd.to_numeric(data['Age'], errors='coerce')\n",
    "\n",
    "# แทนค่าที่ไม่สมเหตุสมผล (<0 หรือ >100) ด้วย NaN\n",
    "data.loc[(data['Num_Credit_Card'] > 100), 'Num_Credit_Card'] = None\n",
    "\n",
    "# ใช้ backward fill (bfill) หรือ forward fill (ffill) เพื่อเติมค่า\n",
    "data['Num_Credit_Card'] = data['Num_Credit_Card'].bfill()  # หรือใช้ data['Age'].fillna(method='ffill')\n",
    "\n",
    "# แปลงค่าให้เป็นจำนวนเต็ม (int) โดยตัดทศนิยม\n",
    "data['Num_Credit_Card'] = data['Num_Credit_Card'].astype('Int64')  # ใช้ 'Int64' รองรับ NaN ได้\n",
    "\n",
    "print(data['Num_Credit_Card'])"
   ]
  },
  {
   "cell_type": "code",
   "execution_count": null,
   "id": "5d1beb4b-cdff-4f98-9648-5dc475d48b83",
   "metadata": {},
   "outputs": [],
   "source": [
    "# แปลงInterest_Rateที่ >100 ให้กลายเป็นInterest_Rateของคนที่อยู่รอบๆแถวข้อมูลตัวนั้น\n",
    "# แปลงคอลัมน์ 'Interest_Rate' ให้เป็นตัวเลข (หากมีค่าที่แปลงไม่ได้ให้เป็น NaN)\n",
    "#data['Age'] = pd.to_numeric(data['Age'], errors='coerce')\n",
    "\n",
    "# แทนค่าที่ไม่สมเหตุสมผล (<0 หรือ >100) ด้วย NaN\n",
    "data.loc[(data['Interest_Rate'] > 100), 'Interest_Rate'] = None\n",
    "\n",
    "# ใช้ backward fill (bfill) หรือ forward fill (ffill) เพื่อเติมค่า\n",
    "data['Interest_Rate'] = data['Interest_Rate'].bfill()  # หรือใช้ data['Age'].fillna(method='ffill')\n",
    "\n",
    "# แปลงค่าให้เป็นจำนวนเต็ม (int) โดยตัดทศนิยม\n",
    "data['Interest_Rate'] = data['Interest_Rate'].astype('Float64')  # ใช้ 'Int64' รองรับ NaN ได้\n",
    "\n",
    "print(data['Interest_Rate'])\n",
    "data.info()"
   ]
  },
  {
   "cell_type": "code",
   "execution_count": null,
   "id": "af16a0b0-7306-433a-a037-ca03f959a211",
   "metadata": {},
   "outputs": [],
   "source": [
    "# แปลงคอลัมน์ 'Delay_from_due_date' ให้เป็นตัวเลข (หากมีค่าที่แปลงไม่ได้ให้เป็น NaN)\n",
    "#data['Delay_from_due_date'] = pd.to_numeric(data['Delay_from_due_date'], errors='coerce')\n",
    "\n",
    "# แทนค่าที่ไม่สมเหตุสมผล (<0) ด้วย NaN\n",
    "data.loc[(data['Delay_from_due_date'] < 0) , 'Delay_from_due_date'] = None\n",
    "data['Delay_from_due_date'] = data.groupby('SSN')['Delay_from_due_date'].transform(lambda x: x.mode()[0] if not x.mode().empty else x.iloc[0])\n",
    "\n",
    "# แปลงค่าให้เป็นจำนวนเต็ม (int) โดยตัดทศนิยม\n",
    "data['Delay_from_due_date'] = data['Delay_from_due_date'].astype('Int64')  # ใช้ 'Int64' รองรับ NaN ได้\n",
    "\n",
    "data['Delay_from_due_date']"
   ]
  },
  {
   "cell_type": "code",
   "execution_count": null,
   "id": "030db6a7-5ae5-4e99-b9a6-400cfde3c512",
   "metadata": {},
   "outputs": [],
   "source": [
    "# แปลงคอลัมน์ 'Num_of_Delayed_Payment' ให้เป็นตัวเลข (หากมีค่าที่แปลงไม่ได้ให้เป็น NaN)\n",
    "data['Num_of_Delayed_Payment'] = pd.to_numeric(data['Num_of_Delayed_Payment'], errors='coerce')\n",
    "\n",
    "# แทนค่าที่ไม่สมเหตุสมผล (<0) ด้วย NaN\n",
    "data.loc[(data['Num_of_Delayed_Payment'] < 0) , 'Num_of_Delayed_Payment'] = None\n",
    "data['Num_of_Delayed_Payment'] = data.groupby('SSN')['Num_of_Delayed_Payment'].transform(lambda x: x.mode()[0] if not x.mode().empty else x.iloc[0])\n",
    "\n",
    "# แปลงค่าให้เป็นจำนวนเต็ม (int) โดยตัดทศนิยม\n",
    "data['Num_of_Delayed_Payment'] = data['Num_of_Delayed_Payment'].astype('Int64')  # ใช้ 'Int64' รองรับ NaN ได้\n",
    "\n",
    "data['Num_of_Delayed_Payment']\n",
    "\n"
   ]
  },
  {
   "cell_type": "code",
   "execution_count": null,
   "id": "66d34065-26fb-428e-89c1-96c5198d9de9",
   "metadata": {},
   "outputs": [],
   "source": [
    "# แปลงค่าว่าง (empty strings) และ None เป็น NaN\n",
    "data['Changed_Credit_Limit'] = data['Changed_Credit_Limit'].replace({'': np.nan, None: np.nan})\n",
    "\n",
    "# ตรวจสอบว่าค่าที่เป็น NaN ถูกแทนที่หรือไม่\n",
    "print(\"หลังการแปลงค่าค่าว่างเป็น NaN:\")\n",
    "print(data)\n",
    "\n",
    "# ตรวจสอบค่าว่าง (NaN) โดยใช้ isnull() หรือ isna()\n",
    "print(\"\\nการตรวจจับค่าที่เป็น NaN:\")\n",
    "print(data['Changed_Credit_Limit'].isnull()) "
   ]
  },
  {
   "cell_type": "code",
   "execution_count": null,
   "id": "bdc9279d-75d3-424a-8fb6-449ef2202472",
   "metadata": {},
   "outputs": [],
   "source": [
    "# แปลงChanged_Credit_Limitที่ >100 ให้กลายเป็นNum_Bank_Accountsของคนที่อยู่รอบๆแถวข้อมูลตัวนั้น\n",
    "# แปลงคอลัมน์ 'Changed_Credit_Limit' ให้เป็นตัวเลข (หากมีค่าที่แปลงไม่ได้ให้เป็น NaN)\n",
    "#data['Changed_Credit_Limit'] = pd.to_numeric(data['Changed_Credit_Limit'], errors='coerce')\n",
    "\n",
    "# ใช้ backward fill (bfill) หรือ forward fill (ffill) เพื่อเติมค่า\n",
    "data['Changed_Credit_Limit'] = data['Changed_Credit_Limit'].bfill()  # หรือใช้ data['Age'].fillna(method='ffill')\n",
    "\n",
    "# แปลง 'Changed_Credit_Limit' เป็น float64 และปัดทศนิยมเป็น 2 ตำแหน่ง\n",
    "data['Changed_Credit_Limit'] = pd.to_numeric(data['Changed_Credit_Limit'], errors='coerce')\n",
    "\n",
    "# ปัดทศนิยมให้เป็น 2 ตำแหน่ง\n",
    "data['Changed_Credit_Limit'] = data['Changed_Credit_Limit'].round(2)\n",
    "\n",
    "data.loc[2]"
   ]
  },
  {
   "cell_type": "code",
   "execution_count": null,
   "id": "a871a77e-3388-4ff4-b12d-b29d8bb47649",
   "metadata": {},
   "outputs": [],
   "source": [
    "# แปลง 'Changed_Credit_Limit' เป็น float64 และปัดทศนิยมเป็น 2 ตำแหน่ง\n",
    "data['Amount_invested_monthly'] = pd.to_numeric(data['Amount_invested_monthly'], errors='coerce')\n",
    "data['Monthly_Balance'] = pd.to_numeric(data['Monthly_Balance'], errors='coerce')\n",
    "# ปัดทศนิยมให้เป็น 2 ตำแหน่ง\n",
    "data['Monthly_Inhand_Salary'] = data['Monthly_Inhand_Salary'].round(2)\n",
    "data['Credit_Utilization_Ratio'] = data['Credit_Utilization_Ratio'].round(2)\n",
    "data['Total_EMI_per_month'] = data['Total_EMI_per_month'].round(2)\n",
    "data['Monthly_Balance'] = data['Monthly_Balance'].round(2)\n",
    "data['Amount_invested_monthly'] = data['Amount_invested_monthly'].round(2)"
   ]
  },
  {
   "cell_type": "code",
   "execution_count": null,
   "id": "f26ca417-1392-4e01-be78-560d14181b88",
   "metadata": {},
   "outputs": [],
   "source": [
    "data.to_csv('ModifiedData.csv', index = False)"
   ]
  },
  {
   "cell_type": "code",
   "execution_count": null,
   "id": "27bf91c2-7a05-4eff-b055-6283250381f1",
   "metadata": {},
   "outputs": [],
   "source": [
    "# แปลงคอลัมน์ 'Num_Credit_Inquiries' ให้เป็นตัวเลข (หากมีค่าที่แปลงไม่ได้ให้เป็น NaN)\n",
    "#data['Num_Credit_Inquiries'] = pd.to_numeric(data['Num_Credit_Inquiries'], errors='coerce')\n",
    "\n",
    "# แทนค่าที่ไม่สมเหตุสมผล (<0) ด้วย NaN\n",
    "data.loc[(data['Num_of_Delayed_Payment'] > 100) , 'Num_of_Delayed_Payment'] = None\n",
    "data['Num_Credit_Inquiries'] = data.groupby('SSN')['Num_Credit_Inquiries'].transform(lambda x: x.mode()[0] if not x.mode().empty else x.iloc[0])\n",
    "\n",
    "# แปลงค่าให้เป็นจำนวนเต็ม (int) โดยตัดทศนิยม\n",
    "data['Num_Credit_Inquiries'] = data['Num_Credit_Inquiries'].astype('Int64')  # ใช้ 'Int64' รองรับ NaN ได้\n",
    "\n",
    "data['Num_Credit_Inquiries']"
   ]
  },
  {
   "cell_type": "code",
   "execution_count": null,
   "id": "e509ec48-2986-4574-8a2b-b9ae6458c329",
   "metadata": {},
   "outputs": [],
   "source": [
    "# คำนวณ IQR (Interquartile Range) เพื่อหาค่าที่เป็น outliers\n",
    "Q1 = data['Total_EMI_per_month'].quantile(0.25)\n",
    "Q3 = data['Total_EMI_per_month'].quantile(0.75)\n",
    "IQR = Q3 - Q1\n",
    "\n",
    "# กำหนดช่วงค่าที่ไม่เป็น outlier (ระหว่าง Q1 - 1.5 * IQR ถึง Q3 + 1.5 * IQR)\n",
    "lower_bound = Q1 - 1.5 * IQR\n",
    "upper_bound = Q3 + 1.5 * IQR\n",
    "\n",
    "# หาค่าที่เป็น outlier\n",
    "outliers_condition = (data['Total_EMI_per_month'] < lower_bound) | (data['Total_EMI_per_month'] > upper_bound)\n",
    "\n",
    "# แทนที่ค่าที่เป็น outliers ด้วย mode ของ 'Total_EMI_per_month' ในแต่ละกลุ่ม เช่น Customer_ID\n",
    "def replace_outliers_with_mode(row):\n",
    "    if outliers_condition.loc[row.name]:  # ถ้าเป็น outlier\n",
    "        # หา mode ของกลุ่ม Customer_ID (สามารถเปลี่ยนเป็น SSN หรือกลุ่มอื่นๆ ได้)\n",
    "        mode_value = data[data['SSN'] == row['SSN']]['Total_EMI_per_month'].mode()[0]\n",
    "        return mode_value\n",
    "    else:\n",
    "        return row['Total_EMI_per_month']\n",
    "\n",
    "# ใช้ฟังก์ชัน replace_outliers_with_mode เพื่อแทนที่ outliers\n",
    "data['Total_EMI_per_month'] = data.apply(replace_outliers_with_mode, axis=1)\n",
    "\n",
    "# ตรวจสอบผลลัพธ์\n",
    "print(data[['SSN', 'Total_EMI_per_month']].head())\n"
   ]
  },
  {
   "cell_type": "code",
   "execution_count": null,
   "id": "2253c0e0-e684-492a-aaaa-db1eada97622",
   "metadata": {},
   "outputs": [],
   "source": [
    "data.to_csv('ModifiedData.csv', index = False)"
   ]
  },
  {
   "cell_type": "code",
   "execution_count": null,
   "id": "56e2c434-0b4b-4155-bffd-1f9d1a7e3871",
   "metadata": {},
   "outputs": [],
   "source": [
    "data.info()\n",
    "#data.describe()\n",
    "print()\n",
    "#data.isnull().sum()"
   ]
  },
  {
   "cell_type": "code",
   "execution_count": null,
   "id": "2bec249f-817c-4aa3-b717-4f2deaa7773c",
   "metadata": {},
   "outputs": [],
   "source": [
    "#แยกปีกับเดือน แล้วแปลงปีเป็นเดือน ได้คอลัมน์ใหม่ชื่อว่า Credit_History_Age(Month)\n",
    "data[['Year', 'Mon']] = data['Credit_History_Age'].str.split('and', expand = True)\n",
    "\n",
    "data['Year'] = data['Year'].str.strip(' Years')\n",
    "data['Mon'] = data['Mon'].str.strip(' Months')\n",
    "\n",
    "data['Year'] = pd.to_numeric(data['Year'], errors = 'coerce')\n",
    "data['Mon'] = pd.to_numeric(data['Mon'], errors = 'coerce')\n",
    "\n",
    "data['Year'] = data['Year'].astype('Int64')\n",
    "data['Mon'] = data['Mon'].astype('Int64')\n",
    "\n",
    "#data[['Year', 'Month']]\n",
    "data['Credit_History_Age(Month)'] = data['Year']*data['Mon']\n",
    "data['Credit_History_Age(Month)']\n",
    "data.info()"
   ]
  },
  {
   "cell_type": "code",
   "execution_count": null,
   "id": "dfb9c6f4-9c13-42f6-8201-b4d452f8732c",
   "metadata": {},
   "outputs": [],
   "source": [
    "#################Reorder columns (คอลัมน์เดียวใส่ [] เพิ่ม)############################\n",
    "data = data.drop(columns=['Year', 'Credit_History_Age','Mon'])"
   ]
  },
  {
   "cell_type": "code",
   "execution_count": null,
   "id": "249ab661-c99d-462a-9008-a541d553db3b",
   "metadata": {},
   "outputs": [],
   "source": [
    "data.info()"
   ]
  },
  {
   "cell_type": "code",
   "execution_count": null,
   "id": "94b9bbdc-d1ce-4350-9391-880566092372",
   "metadata": {},
   "outputs": [],
   "source": [
    "cols = list(data.columns)\n",
    "data = data[cols[0:20] + [cols[27]] + cols[20:27]]\n",
    "\n",
    "print(data.info())"
   ]
  },
  {
   "cell_type": "code",
   "execution_count": null,
   "id": "1e9a3d4d-ccde-438b-ac7c-3572ceb9d7ac",
   "metadata": {},
   "outputs": [],
   "source": [
    "data.to_csv('ModifiedData.csv', index = False)"
   ]
  },
  {
   "cell_type": "code",
   "execution_count": null,
   "id": "7535c050-e181-44cc-ab67-b2fec0ac45af",
   "metadata": {},
   "outputs": [],
   "source": [
    "# ตรวจสอบแถวที่มีค่า 'Num_Bank_Accounts' < 0\n",
    "#result = data.loc[data['Num_Bank_Accounts'] < 0]\n",
    "\n",
    "# ตรวจสอบแถวที่มีค่า 'Age' < 0\n",
    "result = data.loc[data['Age'] > 80]\n",
    "\n",
    "# แสดงผลลัพธ์\n",
    "print(result)"
   ]
  },
  {
   "cell_type": "code",
   "execution_count": null,
   "id": "92b59c25-72f6-40cb-b421-e7873ff0fe54",
   "metadata": {},
   "outputs": [],
   "source": [
    "# แทนค่าที่ไม่สมเหตุสมผล (<0) ด้วย NaN\n",
    "data.loc[(data['Num_Bank_Accounts'] < 0) , 'Num_Bank_Accounts'] = None\n",
    "data['Num_Bank_Accounts'] = data.groupby('SSN')['Num_Bank_Accounts'].transform(\n",
    "    lambda x: x.mode()[0] if not x.mode().empty else x.iloc[0])\n",
    "\n",
    "data['Num_Bank_Accounts']"
   ]
  },
  {
   "cell_type": "code",
   "execution_count": null,
   "id": "83e6ce39-8863-4242-9577-595b7d04b2cb",
   "metadata": {},
   "outputs": [],
   "source": [
    "data.describe()"
   ]
  },
  {
   "cell_type": "code",
   "execution_count": null,
   "id": "3a74d862-d97a-472e-9c30-687d4ac065f6",
   "metadata": {},
   "outputs": [],
   "source": [
    "#Plot graph by using Box Plot\n",
    "fig = px.box(data, \n",
    " x=\"Age\", \n",
    " color=\"Occupation\", \n",
    " title=\"Occupation Based on Age\")\n",
    "fig.show()"
   ]
  },
  {
   "cell_type": "code",
   "execution_count": null,
   "id": "13d604cb-7405-4d1d-844c-f8771b20a6ab",
   "metadata": {},
   "outputs": [],
   "source": [
    "#กำจัด Outlier of Age\n",
    "\n",
    "# คำนวณ IQR (Interquartile Range) เพื่อหาค่าที่เป็น outliers\n",
    "Q1 = data['Age'].quantile(0.25)\n",
    "Q3 = data['Age'].quantile(0.75)\n",
    "IQR = Q3 - Q1\n",
    "\n",
    "# กำหนดช่วงค่าที่ไม่เป็น outlier (ระหว่าง Q1 - 1.5 * IQR ถึง Q3 + 1.5 * IQR)\n",
    "lower_bound = Q1 - 1.5 * IQR\n",
    "upper_bound = Q3 + 1.5 * IQR\n",
    "\n",
    "# หาค่าที่เป็น outlier\n",
    "outliers_condition = (data['Age'] < lower_bound) | (data['Age'] > upper_bound)\n",
    "\n",
    "# แทนที่ค่าที่เป็น outliers ด้วย mode ของ 'Age' ในแต่ละกลุ่ม เช่น Customer_ID\n",
    "def replace_outliers_with_mode(row):\n",
    "    if outliers_condition.loc[row.name]:  # ถ้าเป็น outlier\n",
    "        # หา mode ของกลุ่ม Customer_ID (สามารถเปลี่ยนเป็น SSN หรือกลุ่มอื่นๆ ได้)\n",
    "        mode_value = data[data['SSN'] == row['SSN']]['Age'].mode()[0]\n",
    "        return mode_value\n",
    "    else:\n",
    "        return row['Age']\n",
    "\n",
    "# ใช้ฟังก์ชัน replace_outliers_with_mode เพื่อแทนที่ outliers\n",
    "data['Age'] = data.apply(replace_outliers_with_mode, axis=1)\n",
    "\n",
    "# ตรวจสอบผลลัพธ์\n",
    "print(data[['SSN', 'Age']].head())"
   ]
  },
  {
   "cell_type": "code",
   "execution_count": null,
   "id": "64484654-29f0-4ec0-b481-df01bba144f1",
   "metadata": {},
   "outputs": [],
   "source": [
    "#Plot graph by using Box Plot\n",
    "fig = px.box(data, \n",
    " x=\"Monthly_Inhand_Salary\", \n",
    " color=\"Occupation\", \n",
    " title=\"Occupation Based on Monthly_Inhand_Salary\")\n",
    "fig.show()"
   ]
  },
  {
   "cell_type": "code",
   "execution_count": null,
   "id": "b12450a7-ab5c-41ea-a46b-9df4947e1b50",
   "metadata": {},
   "outputs": [],
   "source": [
    "#กำจัด Outlier of Monthly_Inhand_Salary\n",
    "\n",
    "# คำนวณ IQR (Interquartile Range) เพื่อหาค่าที่เป็น outliers\n",
    "Q1 = data['Monthly_Inhand_Salary'].quantile(0.25)\n",
    "Q3 = data['Monthly_Inhand_Salary'].quantile(0.75)\n",
    "IQR = Q3 - Q1\n",
    "\n",
    "# กำหนดช่วงค่าที่ไม่เป็น outlier (ระหว่าง Q1 - 1.5 * IQR ถึง Q3 + 1.5 * IQR)\n",
    "lower_bound = Q1 - 1.5 * IQR\n",
    "upper_bound = Q3 + 1.5 * IQR\n",
    "\n",
    "# หาค่าที่เป็น outlier\n",
    "outliers_condition = (data['Monthly_Inhand_Salary'] < lower_bound) | (data['Monthly_Inhand_Salary'] > upper_bound)\n",
    "\n",
    "# แทนที่ค่าที่เป็น outliers ด้วย mode ของ 'Age' ในแต่ละกลุ่ม เช่น Customer_ID\n",
    "def replace_outliers_with_mode(row):\n",
    "    if outliers_condition.loc[row.name]:  # ถ้าเป็น outlier\n",
    "        # หา mode ของกลุ่ม Customer_ID (สามารถเปลี่ยนเป็น SSN หรือกลุ่มอื่นๆ ได้)\n",
    "        mode_value = data[data['SSN'] == row['SSN']]['Monthly_Inhand_Salary'].mode()[0]\n",
    "        return mode_value\n",
    "    else:\n",
    "        return row['Monthly_Inhand_Salary']\n",
    "\n",
    "# ใช้ฟังก์ชัน replace_outliers_with_mode เพื่อแทนที่ outliers\n",
    "data['Monthly_Inhand_Salary'] = data.apply(replace_outliers_with_mode, axis=1)\n",
    "\n",
    "# ตรวจสอบผลลัพธ์\n",
    "print(data[['SSN', 'Monthly_Inhand_Salary']].head())"
   ]
  },
  {
   "cell_type": "code",
   "execution_count": null,
   "id": "d14411c3-6938-41e4-ab2d-3fecde2e51b4",
   "metadata": {},
   "outputs": [],
   "source": [
    "data.describe()"
   ]
  },
  {
   "cell_type": "code",
   "execution_count": null,
   "id": "2787390f-937b-41b8-aa1b-41b56f836fe3",
   "metadata": {},
   "outputs": [],
   "source": [
    "#Plot graph by using Box Plot\n",
    "fig = px.box(data, \n",
    " x=\"Num_Credit_Card\", \n",
    " color=\"Occupation\", \n",
    " title=\"Occupation Based on Num_Credit_Card\")\n",
    "fig.show()"
   ]
  },
  {
   "cell_type": "code",
   "execution_count": null,
   "id": "892eb439-c333-416c-bd67-4e7df8666800",
   "metadata": {},
   "outputs": [],
   "source": [
    "#กำจัด Outlier of Num_Credit_Card\n",
    "\n",
    "# คำนวณ IQR (Interquartile Range) เพื่อหาค่าที่เป็น outliers\n",
    "Q1 = data['Num_Credit_Card'].quantile(0.25)\n",
    "Q3 = data['Num_Credit_Card'].quantile(0.75)\n",
    "IQR = Q3 - Q1\n",
    "\n",
    "# กำหนดช่วงค่าที่ไม่เป็น outlier (ระหว่าง Q1 - 1.5 * IQR ถึง Q3 + 1.5 * IQR)\n",
    "lower_bound = Q1 - 1.5 * IQR\n",
    "upper_bound = Q3 + 1.5 * IQR\n",
    "\n",
    "# หาค่าที่เป็น outlier\n",
    "outliers_condition = (data['Num_Credit_Card'] < lower_bound) | (data['Num_Credit_Card'] > upper_bound)\n",
    "\n",
    "# แทนที่ค่าที่เป็น outliers ด้วย mode ของ 'Age' ในแต่ละกลุ่ม เช่น Customer_ID\n",
    "def replace_outliers_with_mode(row):\n",
    "    if outliers_condition.loc[row.name]:  # ถ้าเป็น outlier\n",
    "        # หา mode ของกลุ่ม Customer_ID (สามารถเปลี่ยนเป็น SSN หรือกลุ่มอื่นๆ ได้)\n",
    "        mode_value = data[data['SSN'] == row['SSN']]['Num_Credit_Card'].mode()[0]\n",
    "        return mode_value\n",
    "    else:\n",
    "        return row['Num_Credit_Card']\n",
    "\n",
    "# ใช้ฟังก์ชัน replace_outliers_with_mode เพื่อแทนที่ outliers\n",
    "data['Num_Credit_Card'] = data.apply(replace_outliers_with_mode, axis=1)\n",
    "\n",
    "# ตรวจสอบผลลัพธ์\n",
    "print(data[['SSN', 'Num_Credit_Card']].head())"
   ]
  },
  {
   "cell_type": "code",
   "execution_count": null,
   "id": "e056fa06-23de-45a8-bf7f-246d1986fbab",
   "metadata": {},
   "outputs": [],
   "source": [
    "data.describe()"
   ]
  },
  {
   "cell_type": "code",
   "execution_count": null,
   "id": "7c833fa2-75bc-4f78-84ec-2e63fa036031",
   "metadata": {},
   "outputs": [],
   "source": [
    "#Plot graph by using Box Plot\n",
    "fig = px.box(data, \n",
    " x=\"Interest_Rate\", \n",
    " color=\"Occupation\", \n",
    " title=\"Occupation Based on Interest_Rate\")\n",
    "fig.show()"
   ]
  },
  {
   "cell_type": "code",
   "execution_count": null,
   "id": "f7746174-2787-4fde-8b7d-734e3339f44f",
   "metadata": {},
   "outputs": [],
   "source": [
    "#กำจัด Outlier of Interest_Rate\n",
    "\n",
    "# คำนวณ IQR (Interquartile Range) เพื่อหาค่าที่เป็น outliers\n",
    "Q1 = data['Interest_Rate'].quantile(0.25)\n",
    "Q3 = data['Interest_Rate'].quantile(0.75)\n",
    "IQR = Q3 - Q1\n",
    "\n",
    "# กำหนดช่วงค่าที่ไม่เป็น outlier (ระหว่าง Q1 - 1.5 * IQR ถึง Q3 + 1.5 * IQR)\n",
    "lower_bound = Q1 - 1.5 * IQR\n",
    "upper_bound = Q3 + 1.5 * IQR\n",
    "\n",
    "# หาค่าที่เป็น outlier\n",
    "outliers_condition = (data['Interest_Rate'] < lower_bound) | (data['Interest_Rate'] > upper_bound)\n",
    "\n",
    "# แทนที่ค่าที่เป็น outliers ด้วย mode ของ 'Age' ในแต่ละกลุ่ม เช่น Customer_ID\n",
    "def replace_outliers_with_mode(row):\n",
    "    if outliers_condition.loc[row.name]:  # ถ้าเป็น outlier\n",
    "        # หา mode ของกลุ่ม Customer_ID (สามารถเปลี่ยนเป็น SSN หรือกลุ่มอื่นๆ ได้)\n",
    "        mode_value = data[data['SSN'] == row['SSN']]['Interest_Rate'].mode()[0]\n",
    "        return mode_value\n",
    "    else:\n",
    "        return row['Interest_Rate']\n",
    "\n",
    "# ใช้ฟังก์ชัน replace_outliers_with_mode เพื่อแทนที่ outliers\n",
    "data['Interest_Rate'] = data.apply(replace_outliers_with_mode, axis=1)\n",
    "\n",
    "# ตรวจสอบผลลัพธ์\n",
    "print(data[['SSN', 'Interest_Rate']].head())\n",
    "data.describe()"
   ]
  },
  {
   "cell_type": "code",
   "execution_count": null,
   "id": "64a0a2ca-7104-422b-a087-0520d50dcdca",
   "metadata": {},
   "outputs": [],
   "source": [
    "#Plot graph by using Box Plot\n",
    "fig = px.box(data, \n",
    " x=\"Num_of_Loan\", \n",
    " color=\"Occupation\", \n",
    " title=\"Occupation Based on Num_of_Loan\")\n",
    "fig.show()"
   ]
  },
  {
   "cell_type": "code",
   "execution_count": null,
   "id": "de7c7d0e-2ca5-4359-a7b7-721242a6caaa",
   "metadata": {},
   "outputs": [],
   "source": [
    "#กำจัด Outlier of Num_of_Loan\n",
    "\n",
    "# คำนวณ IQR (Interquartile Range) เพื่อหาค่าที่เป็น outliers\n",
    "Q1 = data['Num_of_Loan'].quantile(0.25)\n",
    "Q3 = data['Num_of_Loan'].quantile(0.75)\n",
    "IQR = Q3 - Q1\n",
    "\n",
    "# กำหนดช่วงค่าที่ไม่เป็น outlier (ระหว่าง Q1 - 1.5 * IQR ถึง Q3 + 1.5 * IQR)\n",
    "lower_bound = Q1 - 1.5 * IQR\n",
    "upper_bound = Q3 + 1.5 * IQR\n",
    "\n",
    "# หาค่าที่เป็น outlier\n",
    "outliers_condition = (data['Num_of_Loan'] < lower_bound) | (data['Num_of_Loan'] > upper_bound)\n",
    "\n",
    "# แทนที่ค่าที่เป็น outliers ด้วย mode ของ 'Age' ในแต่ละกลุ่ม เช่น Customer_ID\n",
    "def replace_outliers_with_mode(row):\n",
    "    if outliers_condition.loc[row.name]:  # ถ้าเป็น outlier\n",
    "        # หา mode ของกลุ่ม Customer_ID (สามารถเปลี่ยนเป็น SSN หรือกลุ่มอื่นๆ ได้)\n",
    "        mode_value = data[data['SSN'] == row['SSN']]['Num_of_Loan'].mode()[0]\n",
    "        return mode_value\n",
    "    else:\n",
    "        return row['Num_of_Loan']\n",
    "\n",
    "# ใช้ฟังก์ชัน replace_outliers_with_mode เพื่อแทนที่ outliers\n",
    "data['Num_of_Loan'] = data.apply(replace_outliers_with_mode, axis=1)\n",
    "\n",
    "# ตรวจสอบผลลัพธ์\n",
    "print(data[['SSN', 'Num_of_Loan']].head())\n",
    "data.describe()"
   ]
  },
  {
   "cell_type": "code",
   "execution_count": null,
   "id": "3c260e67-dd1b-49eb-be18-d96c37c230cb",
   "metadata": {},
   "outputs": [],
   "source": [
    "#Plot graph by using Box Plot\n",
    "fig = px.box(data, \n",
    " x=\"Delay_from_due_date\", \n",
    " color=\"Occupation\", \n",
    " title=\"Occupation Based on Delay_from_due_date\")\n",
    "fig.show()"
   ]
  },
  {
   "cell_type": "code",
   "execution_count": null,
   "id": "66faf7fd-a475-4eca-aad9-483dc81fc5c8",
   "metadata": {},
   "outputs": [],
   "source": [
    "#กำจัด Outlier of Delay_from_due_date\n",
    "\n",
    "# คำนวณ IQR (Interquartile Range) เพื่อหาค่าที่เป็น outliers\n",
    "Q1 = data['Delay_from_due_date'].quantile(0.25)\n",
    "Q3 = data['Delay_from_due_date'].quantile(0.75)\n",
    "IQR = Q3 - Q1\n",
    "\n",
    "# กำหนดช่วงค่าที่ไม่เป็น outlier (ระหว่าง Q1 - 1.5 * IQR ถึง Q3 + 1.5 * IQR)\n",
    "lower_bound = Q1 - 1.5 * IQR\n",
    "upper_bound = Q3 + 1.5 * IQR\n",
    "\n",
    "# หาค่าที่เป็น outlier\n",
    "outliers_condition = (data['Delay_from_due_date'] < lower_bound) | (data['Delay_from_due_date'] > upper_bound)\n",
    "\n",
    "# แทนที่ค่าที่เป็น outliers ด้วย mode ของ 'Age' ในแต่ละกลุ่ม เช่น Customer_ID\n",
    "def replace_outliers_with_mode(row):\n",
    "    if outliers_condition.loc[row.name]:  # ถ้าเป็น outlier\n",
    "        # หา mode ของกลุ่ม Customer_ID (สามารถเปลี่ยนเป็น SSN หรือกลุ่มอื่นๆ ได้)\n",
    "        mode_value = data[data['SSN'] == row['SSN']]['Delay_from_due_date'].mode()[0]\n",
    "        return mode_value\n",
    "    else:\n",
    "        return row['Delay_from_due_date']\n",
    "\n",
    "# ใช้ฟังก์ชัน replace_outliers_with_mode เพื่อแทนที่ outliers\n",
    "data['Delay_from_due_date'] = data.apply(replace_outliers_with_mode, axis=1)\n",
    "\n",
    "# ตรวจสอบผลลัพธ์\n",
    "print(data[['SSN', 'Delay_from_due_date']].head())\n",
    "data.describe()"
   ]
  },
  {
   "cell_type": "code",
   "execution_count": null,
   "id": "316dba36-e156-44fb-98c1-13cb795d3a32",
   "metadata": {},
   "outputs": [],
   "source": [
    "#Plot graph by using Box Plot\n",
    "fig = px.box(data, \n",
    " x=\"Num_of_Delayed_Payment\", \n",
    " color=\"Occupation\", \n",
    " title=\"Occupation Based on Num_of_Delayed_Payment\")\n",
    "fig.show()"
   ]
  },
  {
   "cell_type": "code",
   "execution_count": null,
   "id": "40d947df-4007-403a-bea8-b5ba42da4928",
   "metadata": {},
   "outputs": [],
   "source": [
    "#Plot graph by using Box Plot\n",
    "fig = px.box(data, \n",
    " x=\"Changed_Credit_Limit\", \n",
    " color=\"Occupation\", \n",
    " title=\"Occupation Based on Changed_Credit_Limit\")\n",
    "fig.show()"
   ]
  },
  {
   "cell_type": "code",
   "execution_count": null,
   "id": "994286ec-e017-49e4-a1af-beb1eaad5df9",
   "metadata": {},
   "outputs": [],
   "source": [
    "#Plot graph by using Box Plot\n",
    "fig = px.box(data, \n",
    " x=\"Num_Credit_Inquiries\", \n",
    " color=\"Occupation\", \n",
    " title=\"Occupation Based on Num_Credit_Inquiries\")\n",
    "fig.show()"
   ]
  },
  {
   "cell_type": "code",
   "execution_count": null,
   "id": "080517e8-c69e-446b-8c1f-df42e340f921",
   "metadata": {},
   "outputs": [],
   "source": [
    "#กำจัด Outlier of Num_Credit_Inquiries\n",
    "\n",
    "# คำนวณ IQR (Interquartile Range) เพื่อหาค่าที่เป็น outliers\n",
    "Q1 = data['Num_Credit_Inquiries'].quantile(0.25)\n",
    "Q3 = data['Num_Credit_Inquiries'].quantile(0.75)\n",
    "IQR = Q3 - Q1\n",
    "\n",
    "# กำหนดช่วงค่าที่ไม่เป็น outlier (ระหว่าง Q1 - 1.5 * IQR ถึง Q3 + 1.5 * IQR)\n",
    "lower_bound = Q1 - 1.5 * IQR\n",
    "upper_bound = Q3 + 1.5 * IQR\n",
    "\n",
    "# หาค่าที่เป็น outlier\n",
    "outliers_condition = (data['Num_Credit_Inquiries'] < lower_bound) | (data['Num_Credit_Inquiries'] > upper_bound)\n",
    "\n",
    "# แทนที่ค่าที่เป็น outliers ด้วย mode ของ 'Age' ในแต่ละกลุ่ม เช่น Customer_ID\n",
    "def replace_outliers_with_mode(row):\n",
    "    if outliers_condition.loc[row.name]:  # ถ้าเป็น outlier\n",
    "        # หา mode ของกลุ่ม Customer_ID (สามารถเปลี่ยนเป็น SSN หรือกลุ่มอื่นๆ ได้)\n",
    "        mode_value = data[data['SSN'] == row['SSN']]['Num_Credit_Inquiries'].mode()[0]\n",
    "        return mode_value\n",
    "    else:\n",
    "        return row['Num_Credit_Inquiries']\n",
    "\n",
    "# ใช้ฟังก์ชัน replace_outliers_with_mode เพื่อแทนที่ outliers\n",
    "data['Num_Credit_Inquiries'] = data.apply(replace_outliers_with_mode, axis=1)\n",
    "\n",
    "# ตรวจสอบผลลัพธ์\n",
    "print(data[['SSN', 'Num_Credit_Inquiries']].head())\n",
    "data.describe()"
   ]
  },
  {
   "cell_type": "code",
   "execution_count": null,
   "id": "9fc6d654-83aa-4597-bada-c80b8be28f91",
   "metadata": {},
   "outputs": [],
   "source": [
    "#Plot graph by using Box Plot\n",
    "fig = px.box(data, \n",
    " x=\"Credit_Utilization_Ratio\", \n",
    " color=\"Occupation\", \n",
    " title=\"Occupation Based on Credit_Utilization_Ratio\")\n",
    "fig.show()"
   ]
  },
  {
   "cell_type": "code",
   "execution_count": null,
   "id": "e73f1222-d959-4b9a-a6f4-2ade5b6a1016",
   "metadata": {},
   "outputs": [],
   "source": [
    "#กำจัด Outlier of Credit_Utilization_Ratio\n",
    "\n",
    "# คำนวณ IQR (Interquartile Range)\n",
    "Q1 = data['Credit_Utilization_Ratio'].quantile(0.25)\n",
    "Q3 = data['Credit_Utilization_Ratio'].quantile(0.75)\n",
    "IQR = Q3 - Q1\n",
    "\n",
    "# ค่าต่ำสุดและสูงสุดที่ไม่เป็น Outlier\n",
    "lower_bound = Q1 - 1.5 * IQR\n",
    "upper_bound = Q3 + 1.5 * IQR\n",
    "\n",
    "# กำหนด Outliers เป็น NaN\n",
    "data.loc[\n",
    "    (data['Credit_Utilization_Ratio'] < lower_bound) | (data['Credit_Utilization_Ratio'] > upper_bound),\n",
    "    'Credit_Utilization_Ratio'] = np.nan\n",
    "\n",
    "# ใช้ Mean ของกลุ่ม SSN เพื่อเติมค่า NaN\n",
    "data['Credit_Utilization_Ratio'] = data.groupby('SSN')['Credit_Utilization_Ratio'].transform(lambda x: x.fillna(x.mean()))\n",
    "\n",
    "#ถ้ายังมี NaN อยู่ ให้เติมด้วย Mean ของทั้งคอลัมน์\n",
    "data['Credit_Utilization_Ratio'] = data['Credit_Utilization_Ratio'].fillna(data['Credit_Utilization_Ratio'].mean()).round(2)\n",
    "\n",
    "\n",
    "# ตรวจสอบผลลัพธ์\n",
    "print(data[['SSN', 'Credit_Utilization_Ratio']].head())\n",
    "print(data['Credit_Utilization_Ratio'].isnull().sum())  # ตรวจสอบว่ามี NaN หลงเหลือหรือไม่\n",
    "\n",
    "data.describe()"
   ]
  },
  {
   "cell_type": "code",
   "execution_count": null,
   "id": "a32dc3fa-7518-4892-9272-930514ed769d",
   "metadata": {},
   "outputs": [],
   "source": [
    "# แปลงคอลัมน์ 'Credit_History_Age(Month)' ให้เป็นตัวเลข (หากมีค่าที่แปลงไม่ได้ให้เป็น NaN)\n",
    "#data['Credit_History_Age(Month)'] = pd.to_numeric(data['Credit_History_Age(Month)'], errors='coerce')\n",
    "\n",
    "# แปลงค่าว่าง (empty strings) และ None เป็น NaN\n",
    "data['Credit_History_Age(Month)'] = data['Credit_History_Age(Month)'].replace({'': np.nan, None: np.nan})\n",
    "\n",
    "# ตรวจสอบว่าค่าที่เป็น NaN ถูกแทนที่หรือไม่\n",
    "print(\"หลังการแปลงค่าค่าว่างเป็น NaN:\")\n",
    "print(data)\n",
    "\n",
    "# ตรวจสอบค่าว่าง (NaN) โดยใช้ isnull() หรือ isna()\n",
    "print(\"\\nการตรวจจับค่าที่เป็น NaN:\")\n",
    "print(data['Credit_History_Age(Month)'].isnull()) \n"
   ]
  },
  {
   "cell_type": "code",
   "execution_count": null,
   "id": "bc9bcf79-d544-42b5-9f4c-e581b2e075d8",
   "metadata": {},
   "outputs": [],
   "source": [
    "# แทนค่าที่ไม่สมเหตุสมผล ด้วย NaN\n",
    "data['Credit_History_Age(Month)'] = data.groupby('SSN')['Credit_History_Age(Month)'].transform(\n",
    "    lambda x: x.mode()[0] if not x.mode().empty else x.iloc[0])\n",
    "\n",
    "# แปลงค่าให้เป็นจำนวนเต็ม (int) โดยตัดทศนิยม\n",
    "data['Credit_History_Age(Month)'] = data['Credit_History_Age(Month)'].astype('Int64')  # ใช้ 'Int64' รองรับ NaN ได้\n",
    "\n",
    "data['Credit_History_Age(Month)']"
   ]
  },
  {
   "cell_type": "code",
   "execution_count": null,
   "id": "41e8ace3-a0ac-4833-bffa-3c0c60631953",
   "metadata": {},
   "outputs": [],
   "source": [
    "data['Credit_History_Age(Month)'].isnull().sum()\n",
    "data.describe()"
   ]
  },
  {
   "cell_type": "code",
   "execution_count": null,
   "id": "66e7eb61-07b5-45d3-89d1-4470b8c6796c",
   "metadata": {},
   "outputs": [],
   "source": [
    "#Plot graph by using Box Plot\n",
    "fig = px.box(data, \n",
    " x=\"Credit_History_Age(Month)\", \n",
    " color=\"Occupation\", \n",
    " title=\"Occupation Based on Credit_History_Age(Month)\")\n",
    "fig.show()"
   ]
  },
  {
   "cell_type": "code",
   "execution_count": null,
   "id": "cf004ae2-38ff-422a-92cb-3067b58a095d",
   "metadata": {},
   "outputs": [],
   "source": [
    "#กำจัด Outlier of Credit_History_Age(Month)\n",
    "\n",
    "import numpy as np\n",
    "\n",
    "# คำนวณ IQR (Interquartile Range)\n",
    "Q1 = data['Credit_History_Age(Month)'].quantile(0.25)\n",
    "Q3 = data['Credit_History_Age(Month)'].quantile(0.75)\n",
    "IQR = Q3 - Q1\n",
    "\n",
    "# ค่าต่ำสุดและสูงสุดที่ไม่เป็น Outlier\n",
    "lower_bound = Q1 - 1.5 * IQR\n",
    "upper_bound = Q3 + 1.5 * IQR\n",
    "\n",
    "# กำหนด Outliers เป็น NaN\n",
    "data.loc[\n",
    "    (data['Credit_History_Age(Month)'] < lower_bound) | (data['Credit_History_Age(Month)'] > upper_bound),\n",
    "    'Credit_History_Age(Month)'] = np.nan\n",
    "\n",
    "# ใช้ Mean ของกลุ่ม SSN เพื่อเติมค่า NaN\n",
    "data['Credit_History_Age(Month)'] = data.groupby('SSN')['Credit_History_Age(Month)'].transform(lambda x: x.fillna(x.mean()))\n",
    "\n",
    "# 🔹 ถ้ายังมี NaN อยู่ ให้เติมด้วย Mean ของทั้งคอลัมน์\n",
    "data['Credit_History_Age(Month)'] = data['Credit_History_Age(Month)'].fillna(\n",
    "    data['Credit_History_Age(Month)'].mean().round()).astype('Int64')\n",
    "\n",
    "# ตรวจสอบผลลัพธ์\n",
    "print(data[['SSN', 'Credit_History_Age(Month)']].head())\n",
    "print(data['Credit_History_Age(Month)'].isnull().sum())  # ตรวจสอบว่ามี NaN หลงเหลือหรือไม่\n",
    "\n",
    "data.describe()"
   ]
  },
  {
   "cell_type": "code",
   "execution_count": null,
   "id": "3813058b-01eb-4099-ab0a-d42b4f0863d4",
   "metadata": {},
   "outputs": [],
   "source": [
    "data.to_csv('ModifiedData.csv', index = False)"
   ]
  },
  {
   "cell_type": "code",
   "execution_count": null,
   "id": "14c19c54-3aa5-4846-b426-5e1d319d02ff",
   "metadata": {},
   "outputs": [],
   "source": [
    "#Plot graph by using Box Plot\n",
    "fig = px.box(data, \n",
    " x=\"Total_EMI_per_month\", \n",
    " color=\"Occupation\", \n",
    " title=\"Occupation Based on Total_EMI_per_month\")\n",
    "fig.show()"
   ]
  },
  {
   "cell_type": "code",
   "execution_count": null,
   "id": "2f59a065-5c00-4dea-b5a3-ae1c7bf98087",
   "metadata": {},
   "outputs": [],
   "source": [
    "#กำจัด Outlier of Total_EMI_per_month\n",
    "\n",
    "# คำนวณ IQR (Interquartile Range) เพื่อหาค่าที่เป็น outliers\n",
    "Q1 = data['Total_EMI_per_month'].quantile(0.25)\n",
    "Q3 = data['Total_EMI_per_month'].quantile(0.75)\n",
    "IQR = Q3 - Q1\n",
    "\n",
    "# กำหนดช่วงค่าที่ไม่เป็น outlier (ระหว่าง Q1 - 1.5 * IQR ถึง Q3 + 1.5 * IQR)\n",
    "lower_bound = Q1 - 1.5 * IQR\n",
    "upper_bound = Q3 + 1.5 * IQR\n",
    "\n",
    "# หาค่าที่เป็น outlier\n",
    "outliers_condition = (data['Total_EMI_per_month'] < lower_bound) | (data['Total_EMI_per_month'] > upper_bound)\n",
    "\n",
    "# แทนที่ค่าที่เป็น outliers ด้วย mode ของ 'Age' ในแต่ละกลุ่ม เช่น Customer_ID\n",
    "def replace_outliers_with_mode(row):\n",
    "    if outliers_condition.loc[row.name]:  # ถ้าเป็น outlier\n",
    "        # หา mode ของกลุ่ม Customer_ID (สามารถเปลี่ยนเป็น SSN หรือกลุ่มอื่นๆ ได้)\n",
    "        mode_value = data[data['SSN'] == row['SSN']]['Total_EMI_per_month'].mode()[0]\n",
    "        return mode_value\n",
    "    else:\n",
    "        return row['Total_EMI_per_month']\n",
    "\n",
    "# ใช้ฟังก์ชัน replace_outliers_with_mode เพื่อแทนที่ outliers\n",
    "data['Total_EMI_per_month'] = data.apply(replace_outliers_with_mode, axis=1)\n",
    "\n",
    "# ตรวจสอบผลลัพธ์\n",
    "print(data[['SSN', 'Total_EMI_per_month']].head())\n",
    "data.describe()"
   ]
  },
  {
   "cell_type": "code",
   "execution_count": null,
   "id": "b8c14270-2c87-4f03-ac82-9be9396aed1d",
   "metadata": {},
   "outputs": [],
   "source": [
    "# แปลงคอลัมน์ 'Amount_invested_monthly' ให้เป็นตัวเลข (หากมีค่าที่แปลงไม่ได้ให้เป็น NaN)\n",
    "\n",
    "# แปลงค่าว่าง (empty strings) และ None เป็น NaN\n",
    "data['Amount_invested_monthly'] = data['Amount_invested_monthly'].replace({'': np.nan, None: np.nan})\n",
    "\n",
    "# ตรวจสอบว่าค่าที่เป็น NaN ถูกแทนที่หรือไม่\n",
    "print(\"หลังการแปลงค่าค่าว่างเป็น NaN:\")\n",
    "print(data)\n",
    "\n",
    "# ตรวจสอบค่าว่าง (NaN) โดยใช้ isnull() หรือ isna()\n",
    "print(\"\\nการตรวจจับค่าที่เป็น NaN:\")\n",
    "print(data['Amount_invested_monthly'].isnull()) \n",
    "\n",
    "################กำจัด Outlier of Credit_Utilization_Ratio\n",
    "\n",
    "# คำนวณ IQR (Interquartile Range)\n",
    "Q1 = data['Credit_Utilization_Ratio'].quantile(0.25)\n",
    "Q3 = data['Credit_Utilization_Ratio'].quantile(0.75)\n",
    "IQR = Q3 - Q1\n",
    "\n",
    "# ค่าต่ำสุดและสูงสุดที่ไม่เป็น Outlier\n",
    "lower_bound = Q1 - 1.5 * IQR\n",
    "upper_bound = Q3 + 1.5 * IQR\n",
    "\n",
    "################################ กำหนด Outliers เป็น NaN\n",
    "data.loc[\n",
    "    (data['Credit_Utilization_Ratio'] < lower_bound) | (data['Credit_Utilization_Ratio'] > upper_bound),\n",
    "    'Credit_Utilization_Ratio'] = np.nan\n",
    "\n",
    "# ใช้ Mean ของกลุ่ม SSN เพื่อเติมค่า NaN\n",
    "data['Credit_Utilization_Ratio'] = data.groupby('SSN')['Credit_Utilization_Ratio'].transform(lambda x: x.fillna(x.mean()))\n",
    "\n",
    "#ถ้ายังมี NaN อยู่ ให้เติมด้วย Mean ของทั้งคอลัมน์\n",
    "data['Credit_Utilization_Ratio'] = data['Credit_Utilization_Ratio'].fillna(data['Credit_Utilization_Ratio'].mean()).round(2)\n",
    "\n",
    "\n",
    "# ตรวจสอบผลลัพธ์\n",
    "print(data[['SSN', 'Credit_Utilization_Ratio']].head())\n",
    "print(data['Credit_Utilization_Ratio'].isnull().sum())  # ตรวจสอบว่ามี NaN หลงเหลือหรือไม่\n",
    "\n",
    "data.describe()"
   ]
  },
  {
   "cell_type": "code",
   "execution_count": null,
   "id": "c93522d7-ddca-47b1-947f-804926e1223d",
   "metadata": {},
   "outputs": [],
   "source": [
    "# แปลงคอลัมน์ 'Monthly_Balance' ให้เป็นตัวเลข (หากมีค่าที่แปลงไม่ได้ให้เป็น NaN)\n",
    "#data['Monthly_Balance'] = pd.to_numeric(data['Monthly_Balance'], errors='coerce')\n",
    "\n",
    "# แปลงค่าว่าง (empty strings) และ None เป็น NaN\n",
    "data['Monthly_Balance'] = data['Monthly_Balance'].replace({'': np.nan, None: np.nan})\n",
    "\n",
    "# ตรวจสอบว่าค่าที่เป็น NaN ถูกแทนที่หรือไม่\n",
    "print(\"หลังการแปลงค่าค่าว่างเป็น NaN:\")\n",
    "print(data)\n",
    "\n",
    "# ตรวจสอบค่าว่าง (NaN) โดยใช้ isnull() หรือ isna()\n",
    "print(\"\\nการตรวจจับค่าที่เป็น NaN:\")\n",
    "print(data['Monthly_Balance'].isnull()) \n",
    "\n",
    "\n",
    "####################กำจัด Outlier of Credit_Utilization_Ratio\n",
    "\n",
    "# คำนวณ IQR (Interquartile Range)\n",
    "Q1 = data['Monthly_Balance'].quantile(0.25)\n",
    "Q3 = data['Monthly_Balance'].quantile(0.75)\n",
    "IQR = Q3 - Q1\n",
    "\n",
    "# ค่าต่ำสุดและสูงสุดที่ไม่เป็น Outlier\n",
    "lower_bound = Q1 - 1.5 * IQR\n",
    "upper_bound = Q3 + 1.5 * IQR\n",
    "\n",
    "# กำหนด Outliers เป็น NaN\n",
    "data.loc[\n",
    "    (data['Monthly_Balance'] < lower_bound) | (data['Monthly_Balance'] > upper_bound),\n",
    "    'Monthly_Balance'] = np.nan\n",
    "\n",
    "# ใช้ Mean ของกลุ่ม SSN เพื่อเติมค่า NaN\n",
    "data['Monthly_Balance'] = data.groupby('SSN')['Monthly_Balance'].transform(lambda x: x.fillna(x.mean()))\n",
    "\n",
    "#ถ้ายังมี NaN อยู่ ให้เติมด้วย Mean ของทั้งคอลัมน์\n",
    "data['Monthly_Balance'] = data['Monthly_Balance'].fillna(data['Monthly_Balance'].mean()).round(2)\n",
    "\n",
    "\n",
    "# ตรวจสอบผลลัพธ์\n",
    "print(data[['SSN', 'Monthly_Balance']].head())\n",
    "print(data['Monthly_Balance'].isnull().sum())  # ตรวจสอบว่ามี NaN หลงเหลือหรือไม่\n",
    "\n",
    "data.describe()"
   ]
  },
  {
   "cell_type": "code",
   "execution_count": null,
   "id": "2fb444a7-9099-499f-b193-593d07bcd990",
   "metadata": {},
   "outputs": [],
   "source": [
    "# แปลงคอลัมน์ 'Amount_invested_monthly' ให้เป็นตัวเลข (หากมีค่าที่แปลงไม่ได้ให้เป็น NaN)\n",
    "#data['Amount_invested_monthly'] = pd.to_numeric(data['MAmount_invested_monthly'], errors='coerce')\n",
    "\n",
    "# แปลงค่าว่าง (empty strings) และ None เป็น NaN\n",
    "data['Amount_invested_monthly'] = data['Amount_invested_monthly'].replace({'': np.nan, None: np.nan})\n",
    "\n",
    "# ตรวจสอบว่าค่าที่เป็น NaN ถูกแทนที่หรือไม่\n",
    "print(\"หลังการแปลงค่าค่าว่างเป็น NaN:\")\n",
    "print(data)\n",
    "\n",
    "# ตรวจสอบค่าว่าง (NaN) โดยใช้ isnull() หรือ isna()\n",
    "print(\"\\nการตรวจจับค่าที่เป็น NaN:\")\n",
    "print(data['Amount_invested_monthly'].isnull()) \n",
    "\n",
    "\n",
    "####################กำจัด Outlier of Credit_Utilization_Ratio\n",
    "\n",
    "# คำนวณ IQR (Interquartile Range)\n",
    "Q1 = data['Amount_invested_monthly'].quantile(0.25)\n",
    "Q3 = data['Amount_invested_monthly'].quantile(0.75)\n",
    "IQR = Q3 - Q1\n",
    "\n",
    "# ค่าต่ำสุดและสูงสุดที่ไม่เป็น Outlier\n",
    "lower_bound = Q1 - 1.5 * IQR\n",
    "upper_bound = Q3 + 1.5 * IQR\n",
    "\n",
    "# กำหนด Outliers เป็น NaN\n",
    "data.loc[\n",
    "    (data['Amount_invested_monthly'] < lower_bound) | (data['Amount_invested_monthly'] > upper_bound),\n",
    "    'Amount_invested_monthly'] = np.nan\n",
    "\n",
    "# ใช้ Mean ของกลุ่ม SSN เพื่อเติมค่า NaN\n",
    "data['Amount_invested_monthly'] = data.groupby('SSN')['Amount_invested_monthly'].transform(lambda x: x.fillna(x.mean()))\n",
    "\n",
    "#ถ้ายังมี NaN อยู่ ให้เติมด้วย Mean ของทั้งคอลัมน์\n",
    "data['Amount_invested_monthly'] = data['Amount_invested_monthly'].fillna(data['Amount_invested_monthly'].mean()).round(2)\n",
    "\n",
    "\n",
    "# ตรวจสอบผลลัพธ์\n",
    "print(data[['SSN', 'Amount_invested_monthly']].head())\n",
    "print(data['Amount_invested_monthly'].isnull().sum())  # ตรวจสอบว่ามี NaN หลงเหลือหรือไม่\n",
    "\n",
    "data.describe()"
   ]
  },
  {
   "cell_type": "code",
   "execution_count": null,
   "id": "382b79be-8162-46f2-b6d1-b980a924d11e",
   "metadata": {},
   "outputs": [],
   "source": [
    "data.isnull().sum()"
   ]
  },
  {
   "cell_type": "code",
   "execution_count": null,
   "id": "007f8250-a133-4818-92c1-f4bfed643937",
   "metadata": {},
   "outputs": [],
   "source": [
    "#Plot graph by using Box Plot\n",
    "fig = px.box(data, \n",
    " x=\"Amount_invested_monthly\", \n",
    " color=\"Occupation\", \n",
    " title=\"Credit_Score Based on Occupation\")\n",
    "fig.show()"
   ]
  },
  {
   "cell_type": "code",
   "execution_count": null,
   "id": "fe3dd668-c1a1-484a-b79b-804a44aad45a",
   "metadata": {},
   "outputs": [],
   "source": [
    "#Plot graph by using Box Plot\n",
    "fig = px.box(data, \n",
    " x=\"Monthly_Balance\", \n",
    " color=\"Occupation\", \n",
    " title=\"Occupation Based on Monthly_Balance\")\n",
    "fig.show()"
   ]
  },
  {
   "cell_type": "code",
   "execution_count": null,
   "id": "833bd4b0-0a60-41aa-aee3-99b5611fa22a",
   "metadata": {},
   "outputs": [],
   "source": [
    "print(data[['Payment_Behaviour', 'Credit_Mix', 'Credit_Score']].applymap(repr).head(20))"
   ]
  },
  {
   "cell_type": "code",
   "execution_count": null,
   "id": "b97fdaed-cfaa-4650-8da8-944f7487debc",
   "metadata": {},
   "outputs": [],
   "source": [
    "# แทนที่ช่องว่าง ('') หรือค่าที่เป็นช่องว่าง (' ') ด้วย NaN\n",
    "data[['Payment_Behaviour', 'Credit_Mix', 'Credit_Score']] = data[[\n",
    "    'Payment_Behaviour', 'Credit_Mix', 'Credit_Score']].replace(r'^\\s*$', np.nan, regex=True)\n",
    "\n",
    "# แทนค่าที่หายไปด้วย Mode ของแต่ละคอลัมน์\n",
    "for col in ['Payment_Behaviour', 'Credit_Mix', 'Credit_Score']:\n",
    "    mode_value = data[col].mode()[0]  # หา mode ของแต่ละคอลัมน์\n",
    "    data[col] = data[col].fillna(mode_value)  # ใช้การกำหนดค่าโดยตรงแทน inplace"
   ]
  },
  {
   "cell_type": "code",
   "execution_count": null,
   "id": "ec881cef-ba6c-4ab7-b9f4-bd69568b7a6a",
   "metadata": {},
   "outputs": [],
   "source": [
    "print(data[['Payment_Behaviour', 'Credit_Mix', 'Credit_Score']].isnull().sum())"
   ]
  },
  {
   "cell_type": "code",
   "execution_count": null,
   "id": "8296b837-cd37-4c67-b9b8-540fc59f2b39",
   "metadata": {},
   "outputs": [],
   "source": [
    "data.to_csv('Modified_Data.csv', index = False)"
   ]
  },
  {
   "cell_type": "code",
   "execution_count": null,
   "id": "6271f955-5eba-410d-83a0-7742fc87d224",
   "metadata": {},
   "outputs": [],
   "source": [
    "#Plot graph by using Box Plot\n",
    "fig = px.box(data, \n",
    " x=\"Credit_History_Age(Month)\", \n",
    " color=\"Credit_Score\", \n",
    " title=\"Credit Scores Based on Credit_History_Age(Month)\", \n",
    " color_discrete_map={'Poor':'red',\n",
    " 'Standard':'blue',\n",
    " 'Good':'green'})\n",
    "fig.show()"
   ]
  },
  {
   "cell_type": "code",
   "execution_count": null,
   "id": "22051598-3cad-42ad-ba55-b1e93071ef1c",
   "metadata": {},
   "outputs": [],
   "source": [
    "#Plot graph by using Box Plot\n",
    "fig = px.box(data, \n",
    " x=\"Occupation\", \n",
    " color=\"Credit_Score\", \n",
    " title=\"Credit Scores Based on Occupation\", \n",
    " color_discrete_map={'Poor':'red',\n",
    " 'Standard':'blue',\n",
    " 'Good':'green'})\n",
    "fig.show()"
   ]
  },
  {
   "cell_type": "code",
   "execution_count": null,
   "id": "2d7e6ac2-5f6f-4e87-8936-7ce376c288ec",
   "metadata": {},
   "outputs": [],
   "source": [
    "#Plot graph by using Box Plot\n",
    "fig = px.box(data, \n",
    " x=\"Total_EMI_per_month\", \n",
    " color=\"Credit_Score\", \n",
    " title=\"Credit Scores Based on Total_EMI_per_month\", \n",
    " color_discrete_map={'Poor':'red',\n",
    " 'Standard':'blue',\n",
    " 'Good':'green'})\n",
    "fig.show()"
   ]
  },
  {
   "cell_type": "code",
   "execution_count": null,
   "id": "d5163940-d522-4526-96da-b6ae71f5b074",
   "metadata": {},
   "outputs": [],
   "source": [
    "#############################ดูค่า Correlation ของ data #########################################\n",
    "#data.corr()"
   ]
  },
  {
   "cell_type": "code",
   "execution_count": null,
   "id": "81841727-daf8-4afa-b62f-77de6fbc37b6",
   "metadata": {},
   "outputs": [],
   "source": [
    "pip install openpyxl"
   ]
  },
  {
   "cell_type": "code",
   "execution_count": null,
   "id": "64898d94-dc55-43a8-8486-5d1bd8bacd2d",
   "metadata": {},
   "outputs": [],
   "source": [
    "\n",
    "\n",
    "data.to_excel('ModifiedData.xlsx', index = False)"
   ]
  },
  {
   "cell_type": "code",
   "execution_count": null,
   "id": "16b3c7a3-ad83-4b76-8cc1-49b210f66593",
   "metadata": {},
   "outputs": [],
   "source": [
    "# ตรวจสอบ dtype ของคอลัมน์ทั้งหมด\n",
    "'''print(data.dtypes)\n",
    "\n",
    "# แปลงคอลัมน์ที่มีปัญหาเป็นตัวเลข (ถ้าไม่แน่ใจว่าคอลัมน์ไหน ดูจาก Warning ที่บอกลำดับคอลัมน์) ทำได้ทีละคอลัมน์\n",
    "#data['Monthly_Balance'] = pd.to_numeric(data[['Monthly_Balance'], errors='coerce')\n",
    "\n",
    "# ตรวจสอบข้อมูลหลังแปลง\n",
    "data['Monthly_Balance'].head()\n",
    "\n",
    "# แปลงคอลัมน์ที่มีปัญหาเป็นตัวเลข (ถ้าไม่แน่ใจว่าคอลัมน์ไหน ดูจาก Warning ที่บอกลำดับคอลัมน์)\n",
    "cols_convert_numeric = ['Interest_Rate', 'Monthly_Balance', 'Annual_Income', 'Changed_Credit_Limit', 'Outstanding_Debt', 'Amount_invested_monthly']\n",
    "data[cols_convert_numeric] = data[cols_convert_numeric].apply(pd.to_numeric, errors='coerce')\n",
    "\n",
    "# ตรวจสอบข้อมูลหลังการแปลง\n",
    "data[cols_convert_numeric].head()'''"
   ]
  },
  {
   "cell_type": "code",
   "execution_count": null,
   "id": "fc5c79c5-aa98-4dea-90a5-28a74af685cf",
   "metadata": {},
   "outputs": [],
   "source": [
    "# แปลงคอลัมน์ที่มีปัญหาเป็นตัวเลข\n",
    "'''cols_convert_int = []\n",
    "data[cols_convert_int] = data[cols_convert_int].apply(pd.to_numeric, errors='coerce')\n",
    "\n",
    "# แปลงคอลัมน์ให้เป็นinteger\n",
    "data[cols_convert_int] = data[cols_convert_int].fillna(0).astype(int)\n",
    "# ตรวจสอบข้อมูลหลังการแปลง\n",
    "data[cols_convert_int].head()'''"
   ]
  },
  {
   "cell_type": "code",
   "execution_count": null,
   "id": "a1c8277c-782b-437d-afa5-ab65a46ec29f",
   "metadata": {},
   "outputs": [],
   "source": [
    "#################Save Files############################\n",
    "'''data.to_csv('ModifiedData.csv', index = False)\n",
    "data.to_excel('ModifiedData.xlsx', index = False)\n",
    "data.to_csv('ModifiedData.txt', index = False, sep = '\\t')''' #seperate by tab"
   ]
  },
  {
   "cell_type": "code",
   "execution_count": null,
   "id": "d58fda89-c5c0-4ed9-b50e-3ee26df79d30",
   "metadata": {},
   "outputs": [],
   "source": [
    "#data.to_excel('Modified_Data.xlsx', index = False)"
   ]
  },
  {
   "cell_type": "code",
   "execution_count": null,
   "id": "9b916e24-487b-4fe4-af57-4ccff35cc470",
   "metadata": {},
   "outputs": [],
   "source": []
  }
 ],
 "metadata": {
  "kernelspec": {
   "display_name": "Python 3",
   "language": "python",
   "name": "python3"
  },
  "language_info": {
   "codemirror_mode": {
    "name": "ipython",
    "version": 3
   },
   "file_extension": ".py",
   "mimetype": "text/x-python",
   "name": "python",
   "nbconvert_exporter": "python",
   "pygments_lexer": "ipython3",
   "version": "3.13.2"
  }
 },
 "nbformat": 4,
 "nbformat_minor": 5
}
